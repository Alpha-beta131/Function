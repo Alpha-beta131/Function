{
  "nbformat": 4,
  "nbformat_minor": 0,
  "metadata": {
    "colab": {
      "provenance": []
    },
    "kernelspec": {
      "name": "python3",
      "display_name": "Python 3"
    },
    "language_info": {
      "name": "python"
    }
  },
  "cells": [
    {
      "cell_type": "code",
      "execution_count": null,
      "metadata": {
        "id": "U1aQERSAQD5I"
      },
      "outputs": [],
      "source": []
    },
    {
      "cell_type": "markdown",
      "source": [
        "Function\n"
      ],
      "metadata": {
        "id": "uwBTW7XDQFzP"
      }
    },
    {
      "cell_type": "markdown",
      "source": [
        "1. What is the difference between a function and a method in Python?\n",
        "ans- Function:\n",
        "A function is a block of code that performs a specific task and is defined using the def keyword.\n",
        "Functions are not tied to any particular object and can be called independently."
      ],
      "metadata": {
        "id": "oeglG6C5Q7tb"
      }
    },
    {
      "cell_type": "code",
      "source": [
        "def greet(name):\n",
        "    return f\"Hello, {name}!\"\n",
        "\n",
        "# Calling the function\n",
        "print(greet(\"Alice\"))\n"
      ],
      "metadata": {
        "colab": {
          "base_uri": "https://localhost:8080/"
        },
        "id": "ElmYB7MQSyqy",
        "outputId": "8c49e0da-d159-4f56-f8d6-33cdb47f32ff"
      },
      "execution_count": null,
      "outputs": [
        {
          "output_type": "stream",
          "name": "stdout",
          "text": [
            "Hello, Alice!\n"
          ]
        }
      ]
    },
    {
      "cell_type": "markdown",
      "source": [
        "Method:\n",
        "A method is a function that is associated with an object and is called on that object.\n",
        "Methods are typically defined inside a class and operate on the data (attributes) of that class.\n",
        "Example:\n"
      ],
      "metadata": {
        "id": "gCH0QJThTSsK"
      }
    },
    {
      "cell_type": "code",
      "source": [
        "class Greeter:\n",
        "    def __init__(self, name):\n",
        "        self.name = name\n",
        "\n",
        "    def greet(self):\n",
        "        return f\"Hello, {self.name}!\"\n",
        "\n",
        "# Creating an object of the class\n",
        "greeter = Greeter(\"Bob\")\n",
        "\n",
        "# Calling the method\n",
        "print(greeter.greet())\n"
      ],
      "metadata": {
        "colab": {
          "base_uri": "https://localhost:8080/"
        },
        "id": "dDQVKVp6TYoA",
        "outputId": "262e1997-4ef2-4332-ebe7-9afbee10b7e3"
      },
      "execution_count": null,
      "outputs": [
        {
          "output_type": "stream",
          "name": "stdout",
          "text": [
            "Hello, Bob!\n"
          ]
        }
      ]
    },
    {
      "cell_type": "markdown",
      "source": [
        "2.Explain the concept of function arguments and parameters in Python.\n",
        "ans- In Python, function arguments and parameters are key concepts related to how data is passed into functions.\n",
        "\n",
        "Parameters:\n",
        "Parameters are the variables listed in a function's definition.\n",
        "They act as placeholders for the values that the function will receive when it is called.\n",
        "Arguments:\n",
        "Arguments are the actual values passed to the function when it is called.\n",
        "These values are assigned to the corresponding parameters in the function definition."
      ],
      "metadata": {
        "id": "vXhLRluWTodn"
      }
    },
    {
      "cell_type": "code",
      "source": [
        "#Example: Parameters and Arguments\n",
        "def greet(name):  # 'name' is a parameter\n",
        "    print(f\"Hello, {name}!\")\n",
        "\n",
        "greet(\"Alice\")  # \"Alice\" is an argument\n",
        "greet(\"Bob\")    # \"Bob\" is an argument\n",
        "\n"
      ],
      "metadata": {
        "colab": {
          "base_uri": "https://localhost:8080/"
        },
        "id": "nKXCHOAMTfsA",
        "outputId": "6b841ac9-1def-4aa2-810b-bc93f8f28268"
      },
      "execution_count": null,
      "outputs": [
        {
          "output_type": "stream",
          "name": "stdout",
          "text": [
            "Hello, Alice!\n",
            "Hello, Bob!\n"
          ]
        }
      ]
    },
    {
      "cell_type": "markdown",
      "source": [
        "3. What are the different ways to define and call a function in Python?\n",
        "ans - In Python, functions can be defined and called in various ways to suit different use cases. Below are the different ways to define and call a function with examples:\n",
        "\n",
        "  1.  Basic Function\n",
        "Definition:\n",
        "A simple function using the def keyword.\n",
        "\n",
        "Example:\n"
      ],
      "metadata": {
        "id": "EcMzV6jEU705"
      }
    },
    {
      "cell_type": "code",
      "source": [
        "def greet(name):\n",
        "    return f\"Hello, {name}!\"\n",
        "\n",
        "# Calling the function\n",
        "print(greet(\"Alice\"))\n"
      ],
      "metadata": {
        "colab": {
          "base_uri": "https://localhost:8080/"
        },
        "id": "CrK8zz1dU091",
        "outputId": "279ee027-188c-46af-bcca-40f9cf42d16c"
      },
      "execution_count": null,
      "outputs": [
        {
          "output_type": "stream",
          "name": "stdout",
          "text": [
            "Hello, Alice!\n"
          ]
        }
      ]
    },
    {
      "cell_type": "markdown",
      "source": [
        "2. Function with Default Arguments\n",
        "Definition:\n",
        "Parameters are given default values, which are used if no argument is passed.\n",
        "\n",
        "Example:"
      ],
      "metadata": {
        "id": "bT-rPa9UVv2i"
      }
    },
    {
      "cell_type": "code",
      "source": [
        "def greet(name=\"Guest\"):\n",
        "    return f\"Hello, {name}!\"\n",
        "\n",
        "# Calling the function\n",
        "print(greet())          # Output: Hello, Guest!\n",
        "print(greet(\"Alice\"))   # Output: Hello, Alice!\n"
      ],
      "metadata": {
        "colab": {
          "base_uri": "https://localhost:8080/"
        },
        "id": "avpy1TMaVfgR",
        "outputId": "e8e21029-14c0-4bb5-b5f6-01b82cffb4dc"
      },
      "execution_count": null,
      "outputs": [
        {
          "output_type": "stream",
          "name": "stdout",
          "text": [
            "Hello, Guest!\n",
            "Hello, Alice!\n"
          ]
        }
      ]
    },
    {
      "cell_type": "markdown",
      "source": [
        "3. Function with Positional Arguments\n",
        "Definition:\n",
        "Arguments are passed in the same order as the parameters are defined.\n",
        "\n",
        "Example:"
      ],
      "metadata": {
        "id": "ZMobKfndWR7K"
      }
    },
    {
      "cell_type": "code",
      "source": [
        "def multiply(a, b):\n",
        "    return a * b\n",
        "\n",
        "# Calling the function\n",
        "print(multiply(3, 4))  # Output: 12\n"
      ],
      "metadata": {
        "colab": {
          "base_uri": "https://localhost:8080/"
        },
        "id": "fPGE1wApV0eM",
        "outputId": "8663846f-2783-406c-f04c-42894787feef"
      },
      "execution_count": null,
      "outputs": [
        {
          "output_type": "stream",
          "name": "stdout",
          "text": [
            "12\n"
          ]
        }
      ]
    },
    {
      "cell_type": "markdown",
      "source": [
        "4. Function with Keyword Arguments\n",
        "Definition:\n",
        "Arguments are explicitly matched with parameters by their names.\n",
        "\n",
        "Example:"
      ],
      "metadata": {
        "id": "LhKcnVqeWgi-"
      }
    },
    {
      "cell_type": "code",
      "source": [
        "def introduce(name, age):\n",
        "    return f\"My name is {name} and I am {age} years old.\"\n",
        "\n",
        "# Calling the function\n",
        "print(introduce(name=\"Alice\", age=25))  # Output: My name is Alice and I am 25 years old.\n",
        "print(introduce(age=30, name=\"Bob\"))    # Output: My name is Bob and I am 30 years old.\n"
      ],
      "metadata": {
        "colab": {
          "base_uri": "https://localhost:8080/"
        },
        "id": "aW0uC6sIWpsQ",
        "outputId": "5a156044-60d5-4cf9-88ea-ddaac0f5bd59"
      },
      "execution_count": null,
      "outputs": [
        {
          "output_type": "stream",
          "name": "stdout",
          "text": [
            "My name is Alice and I am 25 years old.\n",
            "My name is Bob and I am 30 years old.\n"
          ]
        }
      ]
    },
    {
      "cell_type": "markdown",
      "source": [
        "4.  What is the purpose of the `return` statement in a Python function?\n",
        "and - The return statement in a Python function is used to send back a result or value from the function to the caller. When the return statement is executed, the function terminates and the value specified in the return statement is passed back to the place where the function was called. This allows the function to provide an output that can be used later in the program.\n",
        "\n",
        "Here are key points about the return statement:\n",
        "\n",
        "Exit the function: Once the return statement is executed, the function stops executing, and no code after it will run.\n",
        "Provide a result: The value specified after the return keyword is the result of the function, which can be stored in a variable or used directly.\n",
        "Optional return: A function doesn't have to have a return statement. If no return is provided, the function returns None by default."
      ],
      "metadata": {
        "id": "66isLC5XWvBm"
      }
    },
    {
      "cell_type": "code",
      "source": [
        "#Example:\n",
        "def add(a, b):\n",
        "    return a + b\n",
        "\n",
        "result = add(5, 3)\n"
      ],
      "metadata": {
        "id": "X-K9n76zWr4N"
      },
      "execution_count": 3,
      "outputs": []
    },
    {
      "cell_type": "markdown",
      "source": [
        "5. What are iterators in Python and how do they differ from iterables?\n",
        "ans- In Python, iterables and iterators are related concepts, but they serve different roles in working with sequences of data. Let's define each term and see how they differ, along with an example.\n",
        "\n",
        "   1.Iterable:\n",
        "An iterable is any object in Python that can return an iterator, which means that the object can be looped over (iterated) using a for loop or other iteration constructs.\n",
        "\n",
        "An iterable implements the __iter__() method or has a __getitem__() method that allows iteration.\n",
        "Common examples of iterables include lists, tuples, dictionaries, and strings.\n",
        "2. Iterator:\n",
        "An iterator is an object that represents a stream of data. It performs the actual iteration over the elements of an iterable.\n",
        "\n",
        "An iterator implements the methods __iter__() and __next__().\n",
        "__iter__() returns the iterator object itself (this is used for compatibility with the for loop).\n",
        "__next__() returns the next element from the sequence, and when the elements are exhausted, it raises a StopIteration exception to signal the end of the sequence.\n",
        "Key Differences:\n",
        "Iterable: An object that can provide an iterator (can be iterated over). Examples include lists, strings, and dictionaries.\n",
        "Iterator: An object that produces the next element of the sequence when __next__() is called. It keeps track of the current position during iteration."
      ],
      "metadata": {
        "id": "Qp3Fd0UMy7eg"
      }
    },
    {
      "cell_type": "markdown",
      "source": [
        "6. Explain the concept of generators in Python and how they are defined.\n",
        "ans- Generators in Python\n",
        "A generator in Python is a special type of iterator that allows you to iterate over a sequence of data, but instead of storing the entire sequence in memory, it generates items one at a time on demand. This is done using lazy evaluation, meaning values are produced only when requested. This makes generators memory-efficient, especially when dealing with large datasets or streams of data.\n",
        "\n",
        "Key Features of Generators:\n",
        "Memory Efficiency: Generators do not store the entire sequence in memory. They generate values on the fly, which is especially useful when working with large datasets.\n",
        "State Preservation: Generators remember the state of execution (where they left off) between calls to next(), so you don’t need to start from the beginning every time you iterate.\n",
        "Lazy Evaluation: Values are only produced when needed, so generators are often more efficient for large or infinite data sets.\n",
        "How Generators are Defined:\n",
        "Generators are defined using:\n",
        "\n",
        "A function with the yield keyword.\n",
        "Alternatively, they can also be created using generator expressions (similar to list comprehensions).\n",
        "1. Using yield in Functions:\n",
        "A function that contains yield instead of return is called a generator function. When the yield keyword is executed, the state of the function is saved, and the value is returned to the caller. The next time the generator’s __next__() method is called, execution resumes from where it left off."
      ],
      "metadata": {
        "id": "dsFBDb8o0FTr"
      }
    },
    {
      "cell_type": "markdown",
      "source": [
        "7. What are the advantages of using generators over regular functions?\n",
        "ans - Using generators over regular functions in Python provides several advantages, particularly when dealing with large datasets, complex calculations, or scenarios where memory efficiency is critical. Below are the main advantages of generators over regular functions:\n",
        "\n",
        "   1. Memory Efficiency\n",
        "Generators are more memory-efficient than regular functions because they do not store all values in memory at once. Instead, they generate values one at a time when requested, using lazy evaluation. This allows you to work with large datasets or infinite sequences without consuming large amounts of memory.\n",
        "\n",
        "Regular functions that return a collection (like a list) store all the elements in memory, which can be a problem when working with large datasets."
      ],
      "metadata": {
        "id": "c9H3XcZx1Yg4"
      }
    },
    {
      "cell_type": "code",
      "source": [
        "# Regular function that returns a list\n",
        "def get_large_range(n):\n",
        "    return [x for x in range(n)]  # Creates a full list in memory\n",
        "\n",
        "# Generator function that yields values one by one\n",
        "def get_large_range_gen(n):\n",
        "    for x in range(n):\n",
        "        yield x  # Only produces one item at a time\n",
        "\n",
        "# Regular function (memory-heavy)\n",
        "large_list = get_large_range(1000000)\n",
        "\n",
        "# Generator (memory-efficient)\n",
        "gen = get_large_range_gen(1000000)\n"
      ],
      "metadata": {
        "id": "ysLX4MRRymYJ"
      },
      "execution_count": 6,
      "outputs": []
    },
    {
      "cell_type": "markdown",
      "source": [
        "8. What is a lambda function in Python and when is it typically used?\n",
        "ans - Lambda Functions in Python\n",
        "A lambda function in Python is a small anonymous function defined with the lambda keyword. Unlike regular functions, which are defined using the def keyword, lambda functions are typically used for short, one-line functions.\n",
        "\n",
        "Lambda functions can take any number of arguments but can only have one expression. The result of that expression is automatically returned when the lambda function is called."
      ],
      "metadata": {
        "id": "d_EtO7Ot2q2L"
      }
    },
    {
      "cell_type": "code",
      "source": [
        "#Example of a Lambda Function:\n",
        "# A simple lambda function that adds two numbers\n",
        "add = lambda x, y: x + y\n",
        "\n",
        "# Calling the lambda function\n",
        "print(add(3, 5))  # Output: 8\n"
      ],
      "metadata": {
        "colab": {
          "base_uri": "https://localhost:8080/"
        },
        "id": "-A4WcYYS2kha",
        "outputId": "85bdb94c-9c88-46ed-bcb5-ae826b93170d"
      },
      "execution_count": 7,
      "outputs": [
        {
          "output_type": "stream",
          "name": "stdout",
          "text": [
            "8\n"
          ]
        }
      ]
    },
    {
      "cell_type": "markdown",
      "source": [
        "When Are Lambda Functions Typically Used?\n",
        "In Higher-Order Functions: Lambda functions are often used when a function is required as an argument to higher-order functions like map(), filter(), and reduce(). These functions accept other functions as arguments to perform operations on iterables.\n",
        "\n",
        "map(): Applies a function to each item of an iterable (like a list) and returns a map object (which can be converted to a list or other collection).\n",
        "filter(): Filters the iterable by applying a function that returns True or False.\n",
        "reduce() (from functools): Applies a function of two arguments cumulatively to the items of an iterable."
      ],
      "metadata": {
        "id": "hmWinu1r3eZH"
      }
    },
    {
      "cell_type": "markdown",
      "source": [
        "9. Explain the purpose and usage of the `map()` function in Python.\n",
        "ans - The map() function in Python is a built-in higher-order function used to apply a given function to each item of an iterable (such as a list, tuple, or other iterables) and return an iterator that produces the results. It is commonly used for transforming or processing all elements in an iterable in a uniform way."
      ],
      "metadata": {
        "id": "utsW179b3lXQ"
      }
    },
    {
      "cell_type": "code",
      "source": [
        "#Syntax of map():\n",
        "map(function, iterable, ...)\n"
      ],
      "metadata": {
        "id": "ALMnUKew3Xld"
      },
      "execution_count": null,
      "outputs": []
    },
    {
      "cell_type": "code",
      "source": [
        "#Example Usage of map():\n",
        "#1. Applying a Function to Each Element in a List:\n",
        "# example, let's say we want to square each number in a list:\n",
        "# A function that squares a number\n",
        "def square(x):\n",
        "    return x * x\n",
        "\n",
        "numbers = [1, 2, 3, 4, 5]\n",
        "\n",
        "# Apply the square function to each element of the list\n",
        "squared_numbers = map(square, numbers)\n",
        "\n",
        "# Convert the map object to a list to display the result\n",
        "print(list(squared_numbers))  # Output: [1, 4, 9, 16, 25]\n"
      ],
      "metadata": {
        "colab": {
          "base_uri": "https://localhost:8080/"
        },
        "id": "A81qXOfP5R35",
        "outputId": "ed62b262-a908-4a36-a7c8-f9fde36b31db"
      },
      "execution_count": 8,
      "outputs": [
        {
          "output_type": "stream",
          "name": "stdout",
          "text": [
            "[1, 4, 9, 16, 25]\n"
          ]
        }
      ]
    },
    {
      "cell_type": "code",
      "source": [
        "#2. Using map() with Lambda Functions:\n",
        "# of defining a separate function, you can use a lambda function directly inside\n",
        "# map() for short, one-off operations.#\n",
        "numbers = [1, 2, 3, 4, 5]\n",
        "\n",
        "# Use lambda to square each number\n",
        "squared_numbers = map(lambda x: x * x, numbers)\n",
        "\n",
        "# Convert to list and print\n",
        "print(list(squared_numbers))  # Output: [1, 4, 9, 16, 25]\n"
      ],
      "metadata": {
        "colab": {
          "base_uri": "https://localhost:8080/"
        },
        "id": "niCtLKqm5hKk",
        "outputId": "357d7ffd-a3e3-496f-988f-e9a85317f93c"
      },
      "execution_count": 9,
      "outputs": [
        {
          "output_type": "stream",
          "name": "stdout",
          "text": [
            "[1, 4, 9, 16, 25]\n"
          ]
        }
      ]
    },
    {
      "cell_type": "code",
      "source": [
        "#3. Multiple Iterables with map():\n",
        "#you can also pass multiple iterables to map(). The function passed to map()\n",
        "#must then take as many arguments as there are iterables.\n",
        "# Two lists to be processed in parallel\n",
        "list1 = [1, 2, 3]\n",
        "list2 = [4, 5, 6]\n",
        "\n",
        "# A function that adds elements from both lists\n",
        "def add(x, y):\n",
        "    return x + y\n",
        "\n",
        "# Apply the add function to each pair of elements from the lists\n",
        "result = map(add, list1, list2)\n",
        "\n",
        "# Convert the map object to a list and print\n",
        "print(list(result))  # Output: [5, 7, 9]\n"
      ],
      "metadata": {
        "colab": {
          "base_uri": "https://localhost:8080/"
        },
        "id": "Dz0yM_T650Zv",
        "outputId": "f5cda0df-e1ab-4304-f4e5-211fcd75a3ba"
      },
      "execution_count": 10,
      "outputs": [
        {
          "output_type": "stream",
          "name": "stdout",
          "text": [
            "[5, 7, 9]\n"
          ]
        }
      ]
    },
    {
      "cell_type": "markdown",
      "source": [
        "10. What is the difference between `map()`, `reduce()`, and `filter()` functions in Python?\n",
        "ans- In Python, map(), reduce(), and filter() are all higher-order functions that operate on iterables. They allow you to process data in a functional programming style, transforming or filtering elements based on a function you provide. However, they each serve different purposes and have different behaviors.\n",
        "\n",
        "Here's a breakdown of the differences between map(), reduce(), and filter():\n",
        "\n",
        "1. map():\n",
        "Purpose: The map() function is used to apply a given function to each item of an iterable (or multiple iterables) and return a map object (an iterator) that produces the results. It transforms each element in the iterable.\n",
        "Use Case: When you need to transform or modify each element in a collection."
      ],
      "metadata": {
        "id": "SmV39I9Z6apF"
      }
    },
    {
      "cell_type": "code",
      "source": [
        "#example\n",
        "numbers = [1, 2, 3, 4, 5]\n",
        "squared_numbers = map(lambda x: x * x, numbers)\n",
        "print(list(squared_numbers))  # Output: [1, 4, 9, 16, 25]\n"
      ],
      "metadata": {
        "colab": {
          "base_uri": "https://localhost:8080/"
        },
        "id": "hCajzYz46MLt",
        "outputId": "5aa4bc23-c4d4-40a9-f835-997915fab3bc"
      },
      "execution_count": 11,
      "outputs": [
        {
          "output_type": "stream",
          "name": "stdout",
          "text": [
            "[1, 4, 9, 16, 25]\n"
          ]
        }
      ]
    },
    {
      "cell_type": "markdown",
      "source": [
        "2. reduce():\n",
        "Purpose: The reduce() function, from the functools module, is used to apply a binary function (a function that takes two arguments) cumulatively to the items of an iterable. It reduces the iterable to a single value.\n",
        "Use Case: When you want to combine or accumulate the elements of an iterable into a single result (e.g., sum, product, finding the maximum, etc.)."
      ],
      "metadata": {
        "id": "DmNr2vxO-GLs"
      }
    },
    {
      "cell_type": "code",
      "source": [
        "#example\n",
        "from functools import reduce\n",
        "\n",
        "numbers = [1, 2, 3, 4]\n",
        "product = reduce(lambda x, y: x * y, numbers)\n",
        "print(product)  # Output: 24 (1 * 2 * 3 * 4)\n"
      ],
      "metadata": {
        "colab": {
          "base_uri": "https://localhost:8080/"
        },
        "id": "h04GWm0B5R0g",
        "outputId": "bcdf702f-490d-4703-a187-f634f0dcf79d"
      },
      "execution_count": 13,
      "outputs": [
        {
          "output_type": "stream",
          "name": "stdout",
          "text": [
            "24\n"
          ]
        }
      ]
    },
    {
      "cell_type": "markdown",
      "source": [
        "3. filter():\n",
        "Purpose: The filter() function is used to filter elements from an iterable by applying a function that returns a boolean value (True or False). Only the elements for which the function returns True are included in the result.\n",
        "Use Case: When you need to filter or select elements from a collection based on a condition."
      ],
      "metadata": {
        "id": "ZyRuAheK-i9b"
      }
    },
    {
      "cell_type": "code",
      "source": [
        "#example\n",
        "numbers = [1, 2, 3, 4, 5, 6]\n",
        "even_numbers = filter(lambda x: x % 2 == 0, numbers)\n",
        "print(list(even_numbers))  # Output: [2, 4, 6]\n"
      ],
      "metadata": {
        "colab": {
          "base_uri": "https://localhost:8080/"
        },
        "id": "MNlFzNDO-k7H",
        "outputId": "acca8dfb-1a88-4ea4-ecc1-1733a0b391a5"
      },
      "execution_count": 14,
      "outputs": [
        {
          "output_type": "stream",
          "name": "stdout",
          "text": [
            "[2, 4, 6]\n"
          ]
        }
      ]
    },
    {
      "cell_type": "markdown",
      "source": [
        "11.  Using pen & Paper write the internal mechanism for sum operation using  reduce function on this given\n",
        "list:[47,11,42,13];\n",
        ""
      ],
      "metadata": {
        "id": "vcCgr1kl-vW3"
      }
    },
    {
      "cell_type": "markdown",
      "source": [
        "![WhatsApp Image 2025-01-21 at 14.04.53_51370559.jpg](data:image/jpeg;base64,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)"
      ],
      "metadata": {
        "id": "s2IgJLdUAQC6"
      }
    },
    {
      "cell_type": "markdown",
      "source": [
        "PRACTICAL QUESTION\n",
        " 1. Write a Python function that takes a list of numbers as input and returns the sum of all even numbers in the list.\n",
        ""
      ],
      "metadata": {
        "id": "IAOVwHj1A__u"
      }
    },
    {
      "cell_type": "code",
      "source": [
        "#answer\n",
        "def sum_of_even_numbers(numbers):\n",
        "    # Using a list comprehension to filter out the even numbers and then summing them\n",
        "    even_sum = sum(number for number in numbers if number % 2 == 0)\n",
        "    return even_sum\n",
        "\n",
        "# Example usage:\n",
        "numbers = [47, 11, 42, 13, 8, 6]\n",
        "result = sum_of_even_numbers(numbers)\n",
        "print(result)  # Output: 56 (42 + 8 + 6)\n"
      ],
      "metadata": {
        "colab": {
          "base_uri": "https://localhost:8080/"
        },
        "id": "Y_REBH25-VDz",
        "outputId": "8236e78c-a114-4fa2-c89a-fff44cca3e01"
      },
      "execution_count": 15,
      "outputs": [
        {
          "output_type": "stream",
          "name": "stdout",
          "text": [
            "56\n"
          ]
        }
      ]
    },
    {
      "cell_type": "markdown",
      "source": [
        "2. Create a Python function that accepts a string and returns the reverse of that string.\n"
      ],
      "metadata": {
        "id": "fYosbEGBBdRe"
      }
    },
    {
      "cell_type": "code",
      "source": [
        "def reverse_string(input_string):\n",
        "    \"\"\"\n",
        "    Reverses the given string and returns the result.\n",
        "\n",
        "    Args:\n",
        "        input_string (str): The string to be reversed.\n",
        "\n",
        "    Returns:\n",
        "        str: The reversed string.\n",
        "    \"\"\"\n",
        "    return input_string[::-1]\n",
        "\n",
        "# Example usage\n",
        "example = \"Hello, world!\"\n",
        "print(reverse_string(example))\n"
      ],
      "metadata": {
        "colab": {
          "base_uri": "https://localhost:8080/"
        },
        "id": "3TPcVyFwBW_-",
        "outputId": "8b7bbaf9-7c15-4c7b-fcfa-6b6b56fd4a5d"
      },
      "execution_count": 16,
      "outputs": [
        {
          "output_type": "stream",
          "name": "stdout",
          "text": [
            "!dlrow ,olleH\n"
          ]
        }
      ]
    },
    {
      "cell_type": "markdown",
      "source": [
        "3. Implement a Python function that takes a list of integers and returns a new list containing the squares of each number."
      ],
      "metadata": {
        "id": "BP8Gx2EODAyd"
      }
    },
    {
      "cell_type": "code",
      "source": [
        "def get_squares(numbers):\n",
        "    \"\"\"\n",
        "    Returns a list containing the squares of each number in the input list.\n",
        "\n",
        "    Args:\n",
        "        numbers (list of int): A list of integers.\n",
        "\n",
        "    Returns:\n",
        "        list of int: A list of squared integers.\n",
        "    \"\"\"\n",
        "    return [number ** 2 for number in numbers]\n",
        "\n",
        "# Example usage\n",
        "example_list = [1, 2, 3, 4, 5]\n",
        "squared_list = get_squares(example_list)\n",
        "print(squared_list)  # Output: [1, 4, 9, 16, 25]\n"
      ],
      "metadata": {
        "colab": {
          "base_uri": "https://localhost:8080/"
        },
        "id": "7X6hz_dTC7MB",
        "outputId": "ce553c45-8406-4f96-da60-8667dd823968"
      },
      "execution_count": 17,
      "outputs": [
        {
          "output_type": "stream",
          "name": "stdout",
          "text": [
            "[1, 4, 9, 16, 25]\n"
          ]
        }
      ]
    },
    {
      "cell_type": "markdown",
      "source": [
        "4. Write a Python function that checks if a given number is prime or not from 1 to 200.\n",
        "\n",
        "\n"
      ],
      "metadata": {
        "id": "FMX9w2LWDTb1"
      }
    },
    {
      "cell_type": "code",
      "source": [
        "def is_prime(n):\n",
        "    \"\"\"\n",
        "    Checks if a given number is prime.\n",
        "\n",
        "    Args:\n",
        "        n (int): The number to check.\n",
        "\n",
        "    Returns:\n",
        "        bool: True if the number is prime, False otherwise.\n",
        "    \"\"\"\n",
        "    if n <= 1:\n",
        "        return False\n",
        "    for i in range(2, int(n ** 0.5) + 1):\n",
        "        if n % i == 0:\n",
        "            return False\n",
        "    return True\n",
        "\n",
        "# Check and list prime numbers from 1 to 200\n",
        "prime_numbers = [num for num in range(1, 201) if is_prime(num)]\n",
        "print(\"Prime numbers from 1 to 200:\", prime_numbers)\n"
      ],
      "metadata": {
        "colab": {
          "base_uri": "https://localhost:8080/"
        },
        "id": "GltNEjAlDOKe",
        "outputId": "28e8f6ba-1561-4b86-e5a0-8633c8a5c7e5"
      },
      "execution_count": 18,
      "outputs": [
        {
          "output_type": "stream",
          "name": "stdout",
          "text": [
            "Prime numbers from 1 to 200: [2, 3, 5, 7, 11, 13, 17, 19, 23, 29, 31, 37, 41, 43, 47, 53, 59, 61, 67, 71, 73, 79, 83, 89, 97, 101, 103, 107, 109, 113, 127, 131, 137, 139, 149, 151, 157, 163, 167, 173, 179, 181, 191, 193, 197, 199]\n"
          ]
        }
      ]
    },
    {
      "cell_type": "markdown",
      "source": [
        "5. Create an iterator class in Python that generates the Fibonacci sequence up to a specified number of term."
      ],
      "metadata": {
        "id": "TFuiZDZFDnZD"
      }
    },
    {
      "cell_type": "code",
      "source": [
        "class FibonacciIterator:\n",
        "    \"\"\"\n",
        "    An iterator class to generate the Fibonacci sequence up to a specified number of terms.\n",
        "    \"\"\"\n",
        "    def __init__(self, num_terms):\n",
        "        \"\"\"\n",
        "        Initializes the iterator.\n",
        "\n",
        "        Args:\n",
        "            num_terms (int): The number of terms to generate.\n",
        "        \"\"\"\n",
        "        self.num_terms = num_terms\n",
        "        self.current = 0\n",
        "        self.next = 1\n",
        "        self.count = 0\n",
        "\n",
        "    def __iter__(self):\n",
        "        \"\"\"\n",
        "        Returns the iterator object.\n",
        "        \"\"\"\n",
        "        return self\n",
        "\n",
        "    def __next__(self):\n",
        "        \"\"\"\n",
        "        Generates the next number in the Fibonacci sequence.\n",
        "\n",
        "        Returns:\n",
        "            int: The next Fibonacci number.\n",
        "\n",
        "        Raises:\n",
        "            StopIteration: When the specified number of terms is reached.\n",
        "        \"\"\"\n",
        "        if self.count >= self.num_terms:\n",
        "            raise StopIteration\n",
        "        if self.count == 0:\n",
        "            self.count += 1\n",
        "            return self.current\n",
        "        elif self.count == 1:\n",
        "            self.count += 1\n",
        "            return self.next\n",
        "        else:\n",
        "            fib = self.current + self.next\n",
        "            self.current, self.next = self.next, fib\n",
        "            self.count += 1\n",
        "            return fib\n",
        "\n",
        "# Example usage\n",
        "num_terms = 10\n",
        "fib_iterator = FibonacciIterator(num_terms)\n",
        "\n",
        "print(f\"The first {num_terms} terms of the Fibonacci sequence:\")\n",
        "for num in fib_iterator:\n",
        "    print(num, end=\" \")  # Output: 0 1 1 2 3 5 8 13 21 34\n"
      ],
      "metadata": {
        "colab": {
          "base_uri": "https://localhost:8080/"
        },
        "id": "ftkzWD2lDd87",
        "outputId": "efb8ab0c-372b-4bbb-d56c-f49595c1ba24"
      },
      "execution_count": 19,
      "outputs": [
        {
          "output_type": "stream",
          "name": "stdout",
          "text": [
            "The first 10 terms of the Fibonacci sequence:\n",
            "0 1 1 2 3 5 8 13 21 34 "
          ]
        }
      ]
    },
    {
      "cell_type": "markdown",
      "source": [
        "6. Write a generator function in Python that yields the powers of 2 up to a given exponent."
      ],
      "metadata": {
        "id": "RiZ2f6_DD9Ql"
      }
    },
    {
      "cell_type": "code",
      "source": [
        "def powers_of_two(max_exponent):\n",
        "    \"\"\"\n",
        "    Yields the powers of 2 from 2^0 up to 2^max_exponent.\n",
        "\n",
        "    Args:\n",
        "        max_exponent (int): The maximum exponent for the powers of 2.\n",
        "    \"\"\"\n",
        "    for exponent in range(max_exponent + 1):\n",
        "        yield 2 ** exponent\n",
        "\n",
        "# Example usage\n",
        "max_exp = 10\n",
        "print(f\"Powers of 2 up to 2^{max_exp}:\")\n",
        "for power in powers_of_two(max_exp):\n",
        "    print(power, end=\" \")  # Output: 1 2 4 8 16 32 64 128 256 512 1024\n"
      ],
      "metadata": {
        "colab": {
          "base_uri": "https://localhost:8080/"
        },
        "id": "3Om9Zbvo5Rce",
        "outputId": "5f4079d8-462f-4c82-c864-12f56dabc3e1"
      },
      "execution_count": 20,
      "outputs": [
        {
          "output_type": "stream",
          "name": "stdout",
          "text": [
            "Powers of 2 up to 2^10:\n",
            "1 2 4 8 16 32 64 128 256 512 1024 "
          ]
        }
      ]
    },
    {
      "cell_type": "markdown",
      "source": [
        "7. Implement a generator function that reads a file line by line and yields each line as a string."
      ],
      "metadata": {
        "id": "OtI1YdQuEh9J"
      }
    },
    {
      "cell_type": "code",
      "source": [
        "def read_file_line_by_line(file_path):\n",
        "    \"\"\"\n",
        "    Reads a file line by line and yields each line as a string.\n",
        "\n",
        "    Args:\n",
        "        file_path (str): The path to the file.\n",
        "\n",
        "    Yields:\n",
        "        str: A line from the file.\n",
        "    \"\"\"\n",
        "    with open(file_path, 'r') as file:\n",
        "        for line in file:\n",
        "            yield line.rstrip('\\n')  # Remove the newline character at the end of each line\n",
        "\n",
        "# Example usage\n",
        "file_path = 'example.txt'  # Replace with the path to your file\n",
        "print(\"File content line by line:\")\n",
        "for line in read_file_line_by_line(file_path):\n",
        "    print(line)\n"
      ],
      "metadata": {
        "id": "IsY4zvynErpr"
      },
      "execution_count": null,
      "outputs": []
    },
    {
      "cell_type": "markdown",
      "source": [
        "8. Use a lambda function in Python to sort a list of tuples based on the second element of each tuple."
      ],
      "metadata": {
        "id": "Ur5WCgcME3tl"
      }
    },
    {
      "cell_type": "code",
      "source": [
        "# List of tuples\n",
        "tuple_list = [(1, 5), (2, 3), (4, 2), (3, 8), (5, 1)]\n",
        "\n",
        "# Sort the list of tuples based on the second element of each tuple using a lambda function\n",
        "sorted_list = sorted(tuple_list, key=lambda x: x[1])\n",
        "\n",
        "# Print the sorted list\n",
        "print(sorted_list)\n"
      ],
      "metadata": {
        "colab": {
          "base_uri": "https://localhost:8080/"
        },
        "id": "3KFzbfU-5Qj2",
        "outputId": "a15a97d2-6fa8-451a-ba07-a5ef30edaafd"
      },
      "execution_count": 22,
      "outputs": [
        {
          "output_type": "stream",
          "name": "stdout",
          "text": [
            "[(5, 1), (4, 2), (2, 3), (1, 5), (3, 8)]\n"
          ]
        }
      ]
    },
    {
      "cell_type": "markdown",
      "source": [
        "9. Write a Python program that uses `map()` to convert a list of temperatures from Celsius to Fahrenheit."
      ],
      "metadata": {
        "id": "DboA0oyAFg2d"
      }
    },
    {
      "cell_type": "code",
      "source": [
        "# List of temperatures in Celsius\n",
        "celsius_temperatures = [0, 10, 20, 30, 40, 50]\n",
        "\n",
        "# Function to convert Celsius to Fahrenheit\n",
        "def celsius_to_fahrenheit(celsius):\n",
        "    return (celsius * 9/5) + 32\n",
        "\n",
        "# Use map to apply the conversion function to each element in the list\n",
        "fahrenheit_temperatures = list(map(celsius_to_fahrenheit, celsius_temperatures))\n",
        "\n",
        "# Print the result\n",
        "print(\"Celsius temperatures:\", celsius_temperatures)\n",
        "print(\"Converted Fahrenheit temperatures:\", fahrenheit_temperatures)\n"
      ],
      "metadata": {
        "colab": {
          "base_uri": "https://localhost:8080/"
        },
        "id": "9jNilEMgFUyb",
        "outputId": "68bc509b-9625-4c3d-b80a-4a07dc2c5499"
      },
      "execution_count": 23,
      "outputs": [
        {
          "output_type": "stream",
          "name": "stdout",
          "text": [
            "Celsius temperatures: [0, 10, 20, 30, 40, 50]\n",
            "Converted Fahrenheit temperatures: [32.0, 50.0, 68.0, 86.0, 104.0, 122.0]\n"
          ]
        }
      ]
    },
    {
      "cell_type": "markdown",
      "source": [
        "10. Create a Python program that uses `filter()` to remove all the vowels from a given string."
      ],
      "metadata": {
        "id": "VekIuM3BFwmf"
      }
    },
    {
      "cell_type": "code",
      "source": [
        "# Function to check if a character is a vowel\n",
        "def is_not_vowel(char):\n",
        "    return char.lower() not in 'aeiou'\n",
        "\n",
        "# Input string\n",
        "input_string = \"Hello, World!\"\n",
        "\n",
        "# Use filter to remove vowels\n",
        "filtered_string = ''.join(filter(is_not_vowel, input_string))\n",
        "\n",
        "# Print the result\n",
        "print(\"Original string:\", input_string)\n",
        "print(\"String without vowels:\", filtered_string)\n"
      ],
      "metadata": {
        "colab": {
          "base_uri": "https://localhost:8080/"
        },
        "id": "nWNxRicdFsOZ",
        "outputId": "c14d914f-015a-4380-c85b-7341b578e5a4"
      },
      "execution_count": 24,
      "outputs": [
        {
          "output_type": "stream",
          "name": "stdout",
          "text": [
            "Original string: Hello, World!\n",
            "String without vowels: Hll, Wrld!\n"
          ]
        }
      ]
    },
    {
      "cell_type": "code",
      "source": [
        "# Sample input data: List of orders, each with [order_number, price_per_item, quantity]\n",
        "orders = [\n",
        "    [34857, 4, 40.95],    # order_number = 34857, price_per_item = 4, quantity = 40.95\n",
        "    [98763, 5, 56.85],    # order_number = 98763, price_per_item = 5, quantity = 56.85\n",
        "    [77226, 3, 32.95],    # order_number = 77226, price_per_item =3 , quantity = 32.95\n",
        "    [88112, 3, 24.99],    # order_number = 88112, price_per_item = 3, quantity = 24.99\n",
        "\n",
        "]\n",
        "\n",
        "# Using map and lambda to process the orders\n",
        "result = list(map(lambda order: (order[0], order[1] * order[2] + (10 if order[1] * order[2] < 100 else 0)), orders))\n",
        "\n",
        "# Print the result\n",
        "print(result)\n"
      ],
      "metadata": {
        "colab": {
          "base_uri": "https://localhost:8080/"
        },
        "id": "OCaEg06eF3eP",
        "outputId": "76783897-2c4d-4326-d21a-5a79feb23c31"
      },
      "execution_count": 25,
      "outputs": [
        {
          "output_type": "stream",
          "name": "stdout",
          "text": [
            "[(34857, 163.8), (98763, 284.25), (77226, 108.85000000000001), (88112, 84.97)]\n"
          ]
        }
      ]
    },
    {
      "cell_type": "code",
      "source": [],
      "metadata": {
        "id": "5Kqf862rHayj"
      },
      "execution_count": null,
      "outputs": []
    },
    {
      "cell_type": "markdown",
      "source": [],
      "metadata": {
        "id": "NWuOWh1G5Pt0"
      }
    },
    {
      "cell_type": "markdown",
      "source": [],
      "metadata": {
        "id": "9vF8rVvY3kh1"
      }
    },
    {
      "cell_type": "markdown",
      "source": [],
      "metadata": {
        "id": "fgNf0TwQWfRj"
      }
    },
    {
      "cell_type": "markdown",
      "source": [
        "PRACTICAL QUESTION"
      ],
      "metadata": {
        "id": "ocGdgB4MU6t_"
      }
    },
    {
      "cell_type": "markdown",
      "source": [],
      "metadata": {
        "id": "uzrqGrVBTmhq"
      }
    }
  ]
}